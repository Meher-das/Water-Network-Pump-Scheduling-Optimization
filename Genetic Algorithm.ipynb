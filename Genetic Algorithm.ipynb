{
 "cells": [
  {
   "cell_type": "markdown",
   "id": "9d8178e1-7fb1-402d-a71f-a51b31a89053",
   "metadata": {},
   "source": [
    " # Libraries Installation"
   ]
  },
  {
   "cell_type": "code",
   "execution_count": null,
   "id": "963dd2c3-5dd6-43b4-a864-89b05ee25831",
   "metadata": {},
   "outputs": [],
   "source": [
    "# Install the necessary libraries as mentioned in file requrirements.txt\n",
    "!python3 -m pip install --upgrade pip\n",
    "!pip install -r requirements.txt"
   ]
  },
  {
   "cell_type": "markdown",
   "id": "ac87eb40-ad0d-464a-a0cc-ba2187b85905",
   "metadata": {},
   "source": [
    "# Genetic Algorithm"
   ]
  },
  {
   "cell_type": "markdown",
   "id": "7f882a4e-4be5-4529-b945-b04d37c6894d",
   "metadata": {},
   "source": [
    "## Setting up Manual Functions"
   ]
  },
  {
   "cell_type": "markdown",
   "id": "bae78b27-bebc-4660-80c7-bb1ef8a00665",
   "metadata": {},
   "source": [
    "### Repair Function Setup"
   ]
  },
  {
   "cell_type": "code",
   "execution_count": null,
   "id": "402badcf-bd38-4107-b49b-a43a16134a7f",
   "metadata": {},
   "outputs": [],
   "source": [
    "def repair():\n",
    "    pass"
   ]
  },
  {
   "cell_type": "markdown",
   "id": "256ea15b-0550-41b8-ae2a-8797ec3d8f85",
   "metadata": {},
   "source": [
    "### Objective Function Setup"
   ]
  },
  {
   "cell_type": "code",
   "execution_count": null,
   "id": "8768834a-a43b-47a6-90b5-0284df5ea2bf",
   "metadata": {},
   "outputs": [],
   "source": [
    "def evaluation():\n",
    "    pass"
   ]
  },
  {
   "cell_type": "markdown",
   "id": "1103047f-6b5e-4218-bb0e-9b443fcd8f9a",
   "metadata": {},
   "source": [
    "## Setting up DEAP framework"
   ]
  },
  {
   "cell_type": "markdown",
   "id": "3f07cab5-438e-4c76-9e89-670e26befbd8",
   "metadata": {},
   "source": [
    "### Setting up Libraries"
   ]
  },
  {
   "cell_type": "code",
   "execution_count": null,
   "id": "b90daa2a-7dce-4042-88be-e6ba112944df",
   "metadata": {},
   "outputs": [],
   "source": [
    "# Necessary Libraries for DEAP and Torch\n",
    "from deap import base, tools, creator, algorithms"
   ]
  },
  {
   "cell_type": "code",
   "execution_count": null,
   "id": "f8fefafa-bcd7-43ac-93ac-28bdeefa962f",
   "metadata": {},
   "outputs": [],
   "source": [
    "import random\n",
    "\n",
    "# --- CONFIGURATION ---\n",
    "NUM_PUMPS = wn.describe(level=1)['Links']['Pumps']\n",
    "NUM_TIMESTAMPS = (int(wn.options.time.duration / wn.options.time.hydraulic_timestep) + 1)\n",
    "CHROM_SIZE = NUM_PUMPS * NUM_TIMESTAMPS  # No of Pumps * No of Timestamps\n",
    "\n",
    "# --- CREATE TYPES ---\n",
    "\n",
    "# Assigning Mult-Class Fitness Weigths\n",
    "creator.create(\"FitnessMulti\", base.Fitness, weights=(-1.0,-1.0,-1.0))\n",
    "\n",
    "# Defining Individual\n",
    "creator.create(\"Individual\", list, fitness = creator.FitnessMulti)\n",
    "\n",
    "toolbox = base.Toolbox()\n",
    "\n",
    "# --- CREATE TOOLS ---\n",
    "\n",
    "# Define Binary Genes\n",
    "toolbox.register(\"attr_bool\", random.randint, 0, 1)\n",
    "\n",
    "# Define Individual (List of Binary Values)\n",
    "toolbox.register(\"individual\", tools.initRepeat, creator.Individual, toolbox.attr_bool, n=CHROM_SIZE)\n",
    "\n",
    "# Define Random Population\n",
    "toolbox.register(\"population\", tools.initRepeat, list, toolbox.individual)\n",
    "\n",
    "# Register the Fitness function\n",
    "toolbox.register(\"evaluate\", evaluation)\n",
    "\n",
    "# Define Selection Methodology\n",
    "toolbox.register(\"select\", tools.selNSGA3)\n",
    "\n",
    "# Define Crossover Methodology\n",
    "toolbox.register(\"mate\", tools.cxTwoPoints)\n",
    "\n",
    "# Define Mutation Methodology\n",
    "toolbox.register(\"mutate\", tools.mutFlipBit, indpb = 0.1)\n",
    "\n",
    "# Set Hall of Fame\n",
    "hof = tools.HallOfFame(10)"
   ]
  },
  {
   "cell_type": "code",
   "execution_count": null,
   "metadata": {},
   "outputs": [],
   "source": [
    "# --- GENETIC ALGO LOOP---\n",
    "\n",
    "def run_ga(pop_size = 40, generations = 5, cx_prob = 0.7, mut_prob = 0.4):\n",
    "    \n",
    "    population = toolbox.population(n = pop_size)\n",
    "\n",
    "    # Multi-Objective Statistics\n",
    "    stats = tools.Statistics(lambda ind: ind.fitness.values)\n",
    "\n",
    "    # Run the Genetic Algorithm\n",
    "    population, logbook = algorithms.eaMuPlusLambda(population=population,\n",
    "                                                    toolbox=toolbox,\n",
    "                                                    mu = round(pop_size * 0.7)\n",
    "                                                    lambda_= round(pop_size * 0.5),\n",
    "                                                    cxpb=cx_prob,\n",
    "                                                    mutpb=mut_prob,\n",
    "                                                    ngen=generations,\n",
    "                                                    stats=stats,\n",
    "                                                    halloffame=hof,\n",
    "                                                    verbose=True,\n",
    "                                                    )\n",
    "    \n",
    "    best_inds = hof\n",
    "    print(\"Best Individual : \", best_inds)\n",
    "    print(\"Fitness : \", best_inds.fitness.values)\n",
    "\n",
    "    return best_inds, logbook, population, hof\n",
    "\n",
    "best_sols, logbook, population, hof = run_ga()"
   ]
  },
  {
   "cell_type": "markdown",
   "id": "dca6bec3-7d27-4311-954e-bbfb33fc755a",
   "metadata": {},
   "source": [
    "# Network Simulation testing"
   ]
  },
  {
   "cell_type": "code",
   "execution_count": 1,
   "metadata": {},
   "outputs": [],
   "source": [
    "import wntr\n",
    "import numpy as np\n",
    "from datetime import timedelta\n",
    "\n",
    "wn = wntr.network.WaterNetworkModel('Network Files/Net3.inp')"
   ]
  },
  {
   "cell_type": "code",
   "execution_count": 5,
   "metadata": {},
   "outputs": [],
   "source": [
    "# Run a pressure dependent hydraulic simulation\n",
    "wn.options.hydraulic.demand_model = 'PDD'\n",
    "wn.options.hydraulic.required_pressure = 50 # m, The required pressure is set to create a scenario where not all demands are met"
   ]
  },
  {
   "cell_type": "code",
   "execution_count": 6,
   "metadata": {},
   "outputs": [],
   "source": [
    "simulation = wntr.sim.WNTRSimulator(wn)\n",
    "results = simulation.run_sim()"
   ]
  },
  {
   "cell_type": "code",
   "execution_count": 7,
   "metadata": {},
   "outputs": [
    {
     "data": {
      "image/png": "[encoded data removed]",
      "text/plain": [
       "<Figure size 640x480 with 2 Axes>"
      ]
     },
     "metadata": {},
     "output_type": "display_data"
    }
   ],
   "source": [
    "# Compute water service availability, defined as the ratio of delivered demand to the expected demand. \n",
    "expected_demand = wntr.metrics.expected_demand(wn)\n",
    "demand = results.node['demand'].loc[:,wn.junction_name_list]\n",
    "wsa = wntr.metrics.water_service_availability(expected_demand.sum(axis=0), demand.sum(axis=0))\n",
    "ax = wntr.graphics.plot_network(wn, node_attribute=wsa, title='Water service availability')\n",
    "\n",
    "wn.reset_initial_values()"
   ]
  },
  {
   "cell_type": "markdown",
   "metadata": {},
   "source": [
    "## Auxiliary Functions"
   ]
  },
  {
   "cell_type": "code",
   "execution_count": null,
   "metadata": {},
   "outputs": [],
   "source": [
    "# --- SCHEDULE ADDITION ---\n",
    "\n",
    "def add_schedule(schedule, wntk):\n",
    "    for i in range(wntk.describe(level=1)['Links']['Pumps']):\n",
    "        for j in range(int(wntk.options.time.duration / wntk.options.time.hydraulic_timestep) + 1):\n",
    "            pump = wntk.get_link(wntk.pump_name_list[i])\n",
    "            condition = wntr.network.controls.SimTimeCondition(wntk, '=', str(timedelta(hours=j)))\n",
    "            action = wntr.network.controls.ControlAction(pump, 'status', schedule[i][j])\n",
    "            control = wntr.network.controls.Control(condition, action, name=f'Control_pump{i}_time{j}')\n",
    "            wntk.add_control(f\"Control Pump ID : {i}, Hour : {j}\", control)"
   ]
  },
  {
   "cell_type": "code",
   "execution_count": null,
   "metadata": {},
   "outputs": [],
   "source": [
    "# --- ADDED SCHEDULE REMOVAL {EXCLUSIVELY THE ONES FROM ADD SCHEDULE}---\n",
    "\n",
    "def remove_schedule(wntk):\n",
    "    for i in range(wntk.describe(level=1)['Links']['Pumps']):\n",
    "        for j in range(int(wntk.options.time.duration / wntk.options.time.hydraulic_timestep) + 1):\n",
    "            wntk.remove_control(f\"Control Pump ID : {i}, Hour : {j}\")"
   ]
  },
  {
   "cell_type": "code",
   "execution_count": null,
   "metadata": {},
   "outputs": [],
   "source": [
    "# --- RESHAPE INDIVIDUAL TO SCHEDULE ---\n",
    "\n",
    "def reshape_individual(individual, wntk):\n",
    "\n",
    "    # Reshape the individual to a 2D array\n",
    "    schedule = np.array(individual).reshape(wntk.describe(level=1)['Links']['Pumps'], (int(wntk.options.time.duration / wntk.options.time.hydraulic_timestep) + 1)).tolist()\n",
    "\n",
    "    return schedule"
   ]
  },
  {
   "cell_type": "code",
   "execution_count": null,
   "metadata": {},
   "outputs": [],
   "source": [
    "# --- FEASIBILITY CHECK FUNCTION ---\n",
    "\n",
    "def check_feasibility(individual, wntk):\n",
    "    \"\"\"\n",
    "    Function to check the feasibility of a given individual.\n",
    "    \"\"\"\n",
    "    pass"
   ]
  },
  {
   "cell_type": "code",
   "execution_count": null,
   "metadata": {},
   "outputs": [],
   "source": [
    "# --- OBJECTIVE CALCULATION FUNCTION ---\n",
    "\n",
    "def calculate_objective(individual, wntk):\n",
    "    \"\"\"\n",
    "    Function to calculate the objective value for a given individual.\n",
    "    \"\"\"\n",
    "    pass"
   ]
  }
 ],
 "metadata": {
  "kernelspec": {
   "display_name": ".venv",
   "language": "python",
   "name": "python3"
  },
  "language_info": {
   "codemirror_mode": {
    "name": "ipython",
    "version": 3
   },
   "file_extension": ".py",
   "mimetype": "text/x-python",
   "name": "python",
   "nbconvert_exporter": "python",
   "pygments_lexer": "ipython3",
   "version": "3.9.6"
  }
 },
 "nbformat": 4,
 "nbformat_minor": 2
}
