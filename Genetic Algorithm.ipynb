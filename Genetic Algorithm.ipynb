{
 "cells": [
  {
   "cell_type": "markdown",
   "id": "9d8178e1-7fb1-402d-a71f-a51b31a89053",
   "metadata": {},
   "source": [
    " # Libraries Installation"
   ]
  },
  {
   "cell_type": "markdown",
   "metadata": {},
   "source": [
    "### OS Issues\n",
    "\n",
    "* EPANET Simulator under wntr doesn't work in MacOS, Linux but does in Windows\n",
    "* Windows has (.dll) precompiled but MacOS needs it to be compiled (.dylib)\n",
    "* Working on compiling .dylib and .so for MacOS and Linux"
   ]
  },
  {
   "cell_type": "code",
   "execution_count": 1,
   "metadata": {},
   "outputs": [],
   "source": [
    "# MacOS specific .dylib \n",
    "from pathlib import Path\n",
    "import os\n",
    "import platform\n",
    "\n",
    "system_os = platform.system()\n",
    "\n",
    "# Get current script directory\n",
    "base_path = Path().resolve()\n",
    "\n",
    "if system_os == \"Darwin\":  # macOS\n",
    "    epanet_lib_path = base_path / \"lib\" / \"libepanet.dylib\"\n",
    "    os.environ[\"EPANET_PATH\"] = str(epanet_lib_path)\n",
    "\n",
    "elif system_os == \"Linux\":\n",
    "    epanet_lib_path = base_path / \"lib\" / \"libepanet.so\"\n",
    "    os.environ[\"EPANET_PATH\"] = str(epanet_lib_path)\n",
    "\n",
    "elif system_os == \"Windows\":\n",
    "    print(\"Windows detected. No need to set EPANET_PATH.\")\n",
    "\n",
    "else:\n",
    "    raise EnvironmentError(f\"Unsupported OS: {system_os}\")\n",
    "\n"
   ]
  },
  {
   "cell_type": "code",
   "execution_count": 2,
   "id": "963dd2c3-5dd6-43b4-a864-89b05ee25831",
   "metadata": {},
   "outputs": [
    {
     "name": "stdout",
     "output_type": "stream",
     "text": [
      "Requirement already satisfied: pip in ./.venv/lib/python3.9/site-packages (25.0.1)\n",
      "Note: you may need to restart the kernel to use updated packages.\n",
      "Requirement already satisfied: wntr in ./.venv/lib/python3.9/site-packages (from -r requirements.txt (line 1)) (1.3.2)\n",
      "Requirement already satisfied: deap in ./.venv/lib/python3.9/site-packages (from -r requirements.txt (line 2)) (1.4.2)\n",
      "Requirement already satisfied: joblib in ./.venv/lib/python3.9/site-packages (from -r requirements.txt (line 3)) (1.4.2)\n",
      "Requirement already satisfied: numpy in ./.venv/lib/python3.9/site-packages (from -r requirements.txt (line 4)) (1.26.4)\n",
      "Requirement already satisfied: matplotlib in ./.venv/lib/python3.9/site-packages (from -r requirements.txt (line 5)) (3.9.4)\n",
      "Requirement already satisfied: pandas in ./.venv/lib/python3.9/site-packages (from -r requirements.txt (line 6)) (2.2.3)\n",
      "Requirement already satisfied: scipy in ./.venv/lib/python3.9/site-packages (from wntr->-r requirements.txt (line 1)) (1.13.1)\n",
      "Requirement already satisfied: networkx in ./.venv/lib/python3.9/site-packages (from wntr->-r requirements.txt (line 1)) (3.2.1)\n",
      "Requirement already satisfied: setuptools in ./.venv/lib/python3.9/site-packages (from wntr->-r requirements.txt (line 1)) (58.0.4)\n",
      "Requirement already satisfied: contourpy>=1.0.1 in ./.venv/lib/python3.9/site-packages (from matplotlib->-r requirements.txt (line 5)) (1.3.0)\n",
      "Requirement already satisfied: cycler>=0.10 in ./.venv/lib/python3.9/site-packages (from matplotlib->-r requirements.txt (line 5)) (0.12.1)\n",
      "Requirement already satisfied: fonttools>=4.22.0 in ./.venv/lib/python3.9/site-packages (from matplotlib->-r requirements.txt (line 5)) (4.57.0)\n",
      "Requirement already satisfied: kiwisolver>=1.3.1 in ./.venv/lib/python3.9/site-packages (from matplotlib->-r requirements.txt (line 5)) (1.4.7)\n",
      "Requirement already satisfied: packaging>=20.0 in ./.venv/lib/python3.9/site-packages (from matplotlib->-r requirements.txt (line 5)) (24.2)\n",
      "Requirement already satisfied: pillow>=8 in ./.venv/lib/python3.9/site-packages (from matplotlib->-r requirements.txt (line 5)) (11.2.1)\n",
      "Requirement already satisfied: pyparsing>=2.3.1 in ./.venv/lib/python3.9/site-packages (from matplotlib->-r requirements.txt (line 5)) (3.2.3)\n",
      "Requirement already satisfied: python-dateutil>=2.7 in ./.venv/lib/python3.9/site-packages (from matplotlib->-r requirements.txt (line 5)) (2.9.0.post0)\n",
      "Requirement already satisfied: importlib-resources>=3.2.0 in ./.venv/lib/python3.9/site-packages (from matplotlib->-r requirements.txt (line 5)) (6.5.2)\n",
      "Requirement already satisfied: pytz>=2020.1 in ./.venv/lib/python3.9/site-packages (from pandas->-r requirements.txt (line 6)) (2025.2)\n",
      "Requirement already satisfied: tzdata>=2022.7 in ./.venv/lib/python3.9/site-packages (from pandas->-r requirements.txt (line 6)) (2025.2)\n",
      "Requirement already satisfied: zipp>=3.1.0 in ./.venv/lib/python3.9/site-packages (from importlib-resources>=3.2.0->matplotlib->-r requirements.txt (line 5)) (3.21.0)\n",
      "Requirement already satisfied: six>=1.5 in ./.venv/lib/python3.9/site-packages (from python-dateutil>=2.7->matplotlib->-r requirements.txt (line 5)) (1.17.0)\n",
      "Note: you may need to restart the kernel to use updated packages.\n"
     ]
    }
   ],
   "source": [
    "# Upgrade pip and install packages from requirements.txt (cross-platform safe)\n",
    "%pip install --upgrade pip\n",
    "%pip install -r requirements.txt"
   ]
  },
  {
   "cell_type": "markdown",
   "id": "ac87eb40-ad0d-464a-a0cc-ba2187b85905",
   "metadata": {},
   "source": [
    "# Genetic Algorithm"
   ]
  },
  {
   "cell_type": "markdown",
   "id": "7f882a4e-4be5-4529-b945-b04d37c6894d",
   "metadata": {},
   "source": [
    "## Setting up Manual Functions"
   ]
  },
  {
   "cell_type": "markdown",
   "metadata": {},
   "source": [
    "### Importing Libraries"
   ]
  },
  {
   "cell_type": "code",
   "execution_count": 3,
   "metadata": {},
   "outputs": [],
   "source": [
    "import wntr\n",
    "import numpy as np\n",
    "from datetime import timedelta\n",
    "import pandas as pd\n",
    "import random\n",
    "import copy\n",
    "import matplotlib.colors as mcolors\n",
    "import matplotlib.pyplot as plt"
   ]
  },
  {
   "cell_type": "markdown",
   "id": "bae78b27-bebc-4660-80c7-bb1ef8a00665",
   "metadata": {},
   "source": [
    "### Auxiliary Functions"
   ]
  },
  {
   "cell_type": "code",
   "execution_count": 4,
   "metadata": {},
   "outputs": [],
   "source": [
    "# --- RESHAPE INDIVIDUAL TO SCHEDULE ---\n",
    "\n",
    "def reshape_individual(individual, wntk):\n",
    "\n",
    "    # Reshape the individual to a 2D array\n",
    "    schedule = np.array(individual).reshape(wntk.describe(level=1)['Links']['Pumps'], (int(wntk.options.time.duration / wntk.options.time.hydraulic_timestep) + 1)).tolist()\n",
    "\n",
    "    return schedule"
   ]
  },
  {
   "cell_type": "code",
   "execution_count": 5,
   "metadata": {},
   "outputs": [],
   "source": [
    "# --- SCHEDULE ADDITION ---\n",
    "\n",
    "def add_schedule(schedule, wntk):\n",
    "    for i in range(wntk.describe(level=1)['Links']['Pumps']):\n",
    "        for j in range(int(wntk.options.time.duration / wntk.options.time.hydraulic_timestep) + 1):\n",
    "            pump = wntk.get_link(wntk.pump_name_list[i])\n",
    "            condition = wntr.network.controls.SimTimeCondition(wntk, '=', str(timedelta(hours=j)))\n",
    "            action = wntr.network.controls.ControlAction(pump, 'status', schedule[i][j])\n",
    "            control = wntr.network.controls.Control(condition, action, name=f'Control_pump{i}_time{j}')\n",
    "            wntk.add_control(f\"Control Pump ID : {i}, Hour : {j}\", control)"
   ]
  },
  {
   "cell_type": "code",
   "execution_count": 22,
   "metadata": {},
   "outputs": [],
   "source": [
    "# --- ADDED SCHEDULE REMOVAL {EXCLUSIVELY THE ONES FROM ADD SCHEDULE}---\n",
    "\n",
    "def remove_schedule(wntk):\n",
    "    for i in range(wntk.describe(level=1)['Links']['Pumps']):\n",
    "        for j in range(int(wntk.options.time.duration / wntk.options.time.hydraulic_timestep) + 1):\n",
    "            wntk.remove_control(f\"Control Pump ID : {i}, Hour : {j}\")"
   ]
  },
  {
   "cell_type": "code",
   "execution_count": 28,
   "metadata": {},
   "outputs": [],
   "source": [
    "# --- SWTICH COUNT FUNCTION ---\n",
    "\n",
    "def count_switches(individual):\n",
    "    \"\"\"\n",
    "    Counts the number of ON/OFF switches per pump for a single individual.\n",
    "\n",
    "    Args:\n",
    "        individual: list of lists; each inner list is a binary schedule (0 or 1) over time for one pump.\n",
    "\n",
    "    Returns:\n",
    "        List of integers: number of switches per pump.\n",
    "    \"\"\"\n",
    "    switch_counts = []\n",
    "    \n",
    "    for schedule in individual:\n",
    "        count = sum(schedule[i] != schedule[i - 1] for i in range(1, len(schedule)))\n",
    "        switch_counts.append(count)\n",
    "    \n",
    "    return switch_counts\n",
    "\n"
   ]
  },
  {
   "cell_type": "markdown",
   "id": "1103047f-6b5e-4218-bb0e-9b443fcd8f9a",
   "metadata": {},
   "source": [
    "## Setting up DEAP framework"
   ]
  },
  {
   "cell_type": "markdown",
   "id": "3f07cab5-438e-4c76-9e89-670e26befbd8",
   "metadata": {},
   "source": [
    "### Setting up Libraries"
   ]
  },
  {
   "cell_type": "code",
   "execution_count": 29,
   "id": "b90daa2a-7dce-4042-88be-e6ba112944df",
   "metadata": {},
   "outputs": [],
   "source": [
    "# Necessary Libraries for DEAP and Torch\n",
    "from deap import base, tools, creator, algorithms\n",
    "\n",
    "# --- CONFIGURATION ---\n",
    "wn = wntr.network.WaterNetworkModel('Network Files/Net3.inp')\n",
    "NUM_PUMPS = wn.describe(level=1)['Links']['Pumps']\n",
    "NUM_TIMESTAMPS = (int(wn.options.time.duration / wn.options.time.hydraulic_timestep) + 1)\n",
    "CHROM_SIZE = NUM_PUMPS * NUM_TIMESTAMPS  # No of Pumps * No of Timestamps"
   ]
  },
  {
   "cell_type": "markdown",
   "id": "256ea15b-0550-41b8-ae2a-8797ec3d8f85",
   "metadata": {},
   "source": [
    "### Evaluation Function"
   ]
  },
  {
   "cell_type": "code",
   "execution_count": 30,
   "id": "8768834a-a43b-47a6-90b5-0284df5ea2bf",
   "metadata": {},
   "outputs": [],
   "source": [
    "# --- EVALUATION FUNCTION ---\n",
    "\n",
    "def evaluation(individual, wntk = wn):\n",
    "\n",
    "    wntk_copy = copy.deepcopy(wntk)\n",
    "\n",
    "    # Reshape the individual to a schedule\n",
    "    schedule = reshape_individual(individual, wntk_copy)\n",
    "\n",
    "    # Get Total Number of Pump Switches\n",
    "    switches_count = count_switches(schedule)\n",
    "\n",
    "    # Add the schedule to the WNTR model\n",
    "    add_schedule(schedule, wntk_copy)\n",
    "\n",
    "    # Run the simulation\n",
    "    sim = wntr.sim.WNTRSimulator(wntk_copy)\n",
    "    results = sim.run_sim()\n",
    "\n",
    "    # Reset the simulation\n",
    "    remove_schedule(wntk_copy)\n",
    "    wntk_copy.reset_initial_values()\n",
    "    \n",
    "    # --- Objectives ---\n",
    "\n",
    "    # === Objective 1 - Total Cost of pump Operation ===\n",
    "\n",
    "    gamma = 9.81\n",
    "    timestep = wntk_copy.options.time.hydraulic_timestep\n",
    "    duration_hr = timestep / 3600\n",
    "    electricity_prices =[0.0244]*7+[0.1194]*15+[0.0244]*3\n",
    "    pump_efficiency = 0.8\n",
    "\n",
    "    total_pump_cost = 0\n",
    "    num_price_steps = len(electricity_prices)\n",
    "    max_power = 0\n",
    "\n",
    "    for pump_name in wntk_copy.pump_name_list:\n",
    "        pump = wntk_copy.get_link(pump_name)\n",
    "        curve = wntk_copy.get_curve(pump.pump_curve_name)\n",
    "        points = np.array(curve.points)\n",
    "        flows = points[:, 0]\n",
    "        heads = points[:, 1]\n",
    "\n",
    "        pump_flows = results.link['flowrate'][pump_name].values\n",
    "\n",
    "        for t, flow in enumerate(pump_flows[:num_price_steps]):\n",
    "            if flow <= 0:\n",
    "                continue\n",
    "\n",
    "            head = np.interp(flow, flows, heads)\n",
    "            power_kw = (gamma * head * flow) / (pump_efficiency)\n",
    "            max_power = max(max_power, power_kw)\n",
    "\n",
    "            cost = power_kw * electricity_prices[t] * duration_hr\n",
    "            total_pump_cost += cost\n",
    "\n",
    "    # === Objective 2 - Pump switch penalization ===\n",
    "    cm = 5\n",
    "    switch_penalty_cost = cm * sum(switches_count)\n",
    "\n",
    "    # === Objective 3 - Cost of Demand Charges ===\n",
    "    cd = 0.5\n",
    "    demand_charge_cost = cd * max_power\n",
    "\n",
    "    # --- Constraints ---\n",
    "\n",
    "    constraint_penalty = 0\n",
    "\n",
    "    # === Number of pump switches ===\n",
    "    if any(switch > 5 for switch in switches_count):\n",
    "        constraint_penalty += 1000000\n",
    "\n",
    "    # === Tank Head constraints ===\n",
    "    for tank_name in wntk_copy.tank_name_list:\n",
    "        tank = wntk_copy.get_node(tank_name)\n",
    "        min_level = tank.min_level\n",
    "        max_level = tank.max_level\n",
    "        tank_levels = results.node['head'][tank_name].values\n",
    "\n",
    "        for t, level in enumerate(tank_levels):\n",
    "            if level < min_level or level > max_level:\n",
    "                constraint_penalty += 1000000\n",
    "\n",
    "    # === Combined water volume constraints ===\n",
    "    D_min = -10  # Minimum percentage difference (e.g., -5%)\n",
    "    D_max = 10   # Maximum percentage difference (e.g., 5%)\n",
    "\n",
    "    # Calculate Vs (sum of tank volumes at the start of the schedule)\n",
    "    Vs = sum([wntk_copy.get_node(tank_name).init_level for tank_name in wntk.tank_name_list])\n",
    "\n",
    "    # Calculate Ve (sum of tank volumes at the end of the schedule)\n",
    "    Ve = sum([results.node['head'][tank_name].iloc[-1] for tank_name in wntk.tank_name_list])\n",
    "\n",
    "    # Calculate percentage difference\n",
    "    if Ve != 0:  # Avoid division by zero\n",
    "        D = ((Vs - Ve) / Ve) * 100\n",
    "        if D < D_min or D > D_max:\n",
    "            constraint_penalty += 1000000  # Add a large penalty if the constraint is violated\n",
    "\n",
    "\n",
    "    return total_pump_cost + switch_penalty_cost + demand_charge_cost + constraint_penalty,"
   ]
  },
  {
   "cell_type": "code",
   "execution_count": 31,
   "id": "f8fefafa-bcd7-43ac-93ac-28bdeefa962f",
   "metadata": {},
   "outputs": [],
   "source": [
    "# --- CREATE TYPES ---\n",
    "\n",
    "# Assigning Mult-Class Fitness Weigths\n",
    "creator.create(\"FitnessMulti\", base.Fitness, weights=(-1.0,))\n",
    "\n",
    "# Defining Individual\n",
    "creator.create(\"Individual\", list, fitness = creator.FitnessMulti)\n",
    "\n",
    "toolbox = base.Toolbox()\n",
    "\n",
    "# --- CREATE TOOLS ---\n",
    "\n",
    "# Define Binary Genes\n",
    "toolbox.register(\"attr_bool\", random.randint, 0, 1)\n",
    "\n",
    "# Define Individual (List of Binary Values)\n",
    "toolbox.register(\"individual\", tools.initRepeat, creator.Individual, toolbox.attr_bool, n=CHROM_SIZE)\n",
    "\n",
    "# Define Random Population\n",
    "toolbox.register(\"population\", tools.initRepeat, list, toolbox.individual)\n",
    "\n",
    "# Register the Fitness function\n",
    "toolbox.register(\"evaluate\", evaluation)\n",
    "\n",
    "# Define Selection Methodology\n",
    "toolbox.register(\"select\", tools.selTournament, tournsize = 3)\n",
    "\n",
    "# Define Crossover Methodology\n",
    "toolbox.register(\"mate\", tools.cxTwoPoint)\n",
    "\n",
    "# Define Mutation Methodology\n",
    "toolbox.register(\"mutate\", tools.mutFlipBit, indpb = 0.1)\n",
    "\n",
    "# Set Hall of Fame\n",
    "hof = tools.HallOfFame(10)"
   ]
  },
  {
   "cell_type": "code",
   "execution_count": null,
   "metadata": {},
   "outputs": [],
   "source": [
    "import os\n",
    "from datetime import datetime\n",
    "\n",
    "# --- GENETIC ALGO LOOP WITH RESULTS SAVING ---\n",
    "def run_ga(pop_size=40, generations=50, cx_prob=0.7, mut_prob=0.3):\n",
    "    # Create population\n",
    "    population = toolbox.population(n=pop_size)\n",
    "\n",
    "    # Objective Statistics\n",
    "    stats = tools.Statistics(lambda ind: ind.fitness.values)\n",
    "    stats.register(\"avg\", np.mean)\n",
    "    stats.register(\"min\", np.min)\n",
    "    stats.register(\"max\", np.max)\n",
    "\n",
    "    # Run the Genetic Algorithm\n",
    "    population, logbook = algorithms.eaSimple(\n",
    "        population=population,\n",
    "        toolbox=toolbox,\n",
    "        cxpb=cx_prob,\n",
    "        mutpb=mut_prob,\n",
    "        ngen=generations,\n",
    "        stats=stats,\n",
    "        halloffame=hof,\n",
    "        verbose=True,\n",
    "    )\n",
    "\n",
    "    # Get the best individual\n",
    "    best_ind = hof[0]\n",
    "    best_fitness = best_ind.fitness.values\n",
    "\n",
    "    # Generate a timestamp\n",
    "    timestamp = datetime.now().strftime(\"%Y-%m-%d_%H-%M-%S\")\n",
    "\n",
    "    # Create a results directory if it doesn't exist\n",
    "    results_dir = \"Run_Results\"\n",
    "    os.makedirs(results_dir, exist_ok=True)\n",
    "\n",
    "    # Write results to a file\n",
    "    results_file = os.path.join(results_dir, f\"GA_Run_{timestamp}.txt\")\n",
    "    with open(results_file, \"w\") as f:\n",
    "        f.write(f\"Timestamp: {timestamp}\\n\")\n",
    "        f.write(f\"Population Size: {pop_size}\\n\")\n",
    "        f.write(f\"Generations: {generations}\\n\")\n",
    "        f.write(f\"Crossover Probability: {cx_prob}\\n\")\n",
    "        f.write(f\"Mutation Probability: {mut_prob}\\n\\n\")\n",
    "        f.write(f\"Best Individual: {best_ind}\\n\")\n",
    "        f.write(f\"Fitness: {best_fitness}\\n\\n\")\n",
    "        f.write(\"Logbook:\\n\")\n",
    "        for record in logbook:\n",
    "            f.write(f\"{record}\\n\")\n",
    "\n",
    "    print(f\"Results saved to {results_file}\")\n",
    "\n",
    "    return best_ind, logbook, population, hof\n",
    "'''\n",
    "# Run the GA with logging\n",
    "if __name__ == \"__main__\":\n",
    "    best_sol, logbook, population, hof = run_ga()\n",
    "'''"
   ]
  },
  {
   "cell_type": "code",
   "execution_count": null,
   "metadata": {},
   "outputs": [],
   "source": [
    "best_sol, logbook, population, hof = run_ga(1000, 50)"
   ]
  },
  {
   "cell_type": "markdown",
   "metadata": {},
   "source": [
    "# Test Runs"
   ]
  },
  {
   "cell_type": "raw",
   "metadata": {
    "vscode": {
     "languageId": "raw"
    }
   },
   "source": [
    "# 18 Apr 2025 - 11:30 AM\n",
    "# Tourn Selection, Single Objective Output - Run from Windows Machine for test \n",
    "\n",
    "gen\tnevals\tavg    \tmin  \tmax    \n",
    "0  \t40    \t14101.9\t13499\t15328.4\n",
    "1  \t33    \t13858.5\t13218.6\t14818.6\n",
    "2  \t27    \t13692.8\t13218.6\t14864.8\n",
    "3  \t36    \t13530.8\t13186.7\t13962.6\n",
    "4  \t25    \t13420.7\t13186.7\t13779.3\n",
    "5  \t38    \t13376.7\t13108.4\t14017.5\n",
    "Best Individual :  [1, 0, 0, 1, 1, 1, 1, 1, 1, 1, 0, 1, 1, 1, 1, 1, 1, 1, 1, 1, 1, 0, 0, 0, 0, 0, 0, 1, 1, 1, 1, 0, 0, 0, 0, 1, 1, 0, 1, 0, 1, 0, 0, 0, 0, 1, 1, 1, 0, 1]\n",
    "Fitness :  (13108.43319407371,)"
   ]
  },
  {
   "cell_type": "markdown",
   "metadata": {},
   "source": [
    "# Solution Analysis"
   ]
  },
  {
   "cell_type": "code",
   "execution_count": null,
   "metadata": {},
   "outputs": [],
   "source": [
    "# Enter the individual value to Analyze\n",
    "analysis_individual = best_sol\n",
    "print(best_sol)"
   ]
  },
  {
   "cell_type": "markdown",
   "metadata": {},
   "source": [
    "## Analysis Functions"
   ]
  },
  {
   "cell_type": "code",
   "execution_count": null,
   "metadata": {},
   "outputs": [],
   "source": [
    "# --- COST ANALYSIS FUNCTION ---\n",
    "\n",
    "def cost_analysis(analysis_individual, cost_pattern = np.array([0.7]*6 + [1.2]*12 + [1]*7).T, wntk=wn): # Cost pattern needs to be changed as per Time requirement (size must be equal to the number of time steps + 1)\n",
    "    \n",
    "    wntk_copy = copy.deepcopy(wntk)\n",
    "\n",
    "    # Reshape the individual to a schedule\n",
    "    schedule = reshape_individual(analysis_individual, wntk_copy)\n",
    "\n",
    "    # Add the schedule to the WNTR model\n",
    "    add_schedule(schedule, wntk_copy)\n",
    "    \n",
    "    # Get Cost Objective - NOTE !!! Price pattern is defined in cost objective function and can be changed inside the cost objective function if necessary\n",
    "    cost_df = cost_objective(wntk_copy)\n",
    "\n",
    "    # Analysis Plots\n",
    "\n",
    "\n",
    "    # Reset the simulation\n",
    "    remove_schedule(wntk_copy)\n",
    "    wntk_copy.reset_initial_values()"
   ]
  },
  {
   "cell_type": "code",
   "execution_count": null,
   "metadata": {},
   "outputs": [],
   "source": [
    "# --- DEMAND ANALYSIS FUNCTION ---\n",
    "\n",
    "def demand_analysis(analysis_individual, wntk=wn):\n",
    "    wntk_copy = copy.deepcopy(wntk)\n",
    "\n",
    "    # Reshape individual into a schedule and add it to the network\n",
    "    schedule = reshape_individual(analysis_individual, wntk_copy)\n",
    "    add_schedule(schedule, wntk_copy)\n",
    "\n",
    "    # Get the demand objective (WSA)\n",
    "    wsa_df = demand_objective(wntk_copy)\n",
    "\n",
    "    # Check the minimum and maximum WSA values across all time steps\n",
    "    min_val = wsa_df.min().min()\n",
    "    max_val = wsa_df.max().max()\n",
    "\n",
    "    # Adjust node range for visualization (based on the actual min and max values)\n",
    "    node_range = [max(0, min_val), min(1.0, max_val)]\n",
    "\n",
    "    # Select timesteps to visualize (e.g., 9 evenly spaced)\n",
    "    num_plots = 9\n",
    "    time_indices = np.linspace(0, len(wsa_df.index)-1, num_plots, dtype=int)\n",
    "    selected_times = wsa_df.index[time_indices]\n",
    "\n",
    "    # Set up subplot grid\n",
    "    ncols = 3\n",
    "    nrows = int(np.ceil(num_plots / ncols))\n",
    "    fig, axes = plt.subplots(nrows=nrows, ncols=ncols, figsize=(15, 10))\n",
    "    axes = axes.flatten()\n",
    "\n",
    "    # Create a colormap with NaN handling\n",
    "    cmap = plt.cm.turbo  # Default colormap\n",
    "\n",
    "    # Set up a custom colormap that handles NaN as a specific color\n",
    "    colors = cmap(np.linspace(0, 1, 256))\n",
    "    colors[0] = [0.8, 0.8, 0.8, 1]  # Set NaN to a light gray (or use a custom color)\n",
    "    custom_cmap = mcolors.ListedColormap(colors)\n",
    "\n",
    "    # Plot WSA for selected timesteps\n",
    "    for i, time in enumerate(selected_times):\n",
    "        ax = axes[i]\n",
    "        wsa = wsa_df.loc[time, :]\n",
    "\n",
    "        # Explicitly handle NaN by filling them with a specific color (gray)\n",
    "        # Create a mask for NaN values\n",
    "        wsa_masked = wsa.copy()\n",
    "        wsa_masked = wsa_masked.fillna(np.nan)  # Ensure NaNs are not ignored\n",
    "\n",
    "        # Plot the network with NaN treated as gray\n",
    "        wntr.graphics.plot_network(\n",
    "            wn,\n",
    "            node_attribute=wsa_masked,\n",
    "            node_size=20,\n",
    "            node_range=node_range,\n",
    "            node_cmap=custom_cmap,\n",
    "            title=f'Time: {time//3600} hrs',\n",
    "            ax=ax,\n",
    "            show_plot=False\n",
    "        )\n",
    "\n",
    "    # Turn off unused axes\n",
    "    for j in range(i + 1, len(axes)):\n",
    "        axes[j].axis('off')\n",
    "\n",
    "    plt.tight_layout()\n",
    "    plt.show()\n",
    "\n",
    "    # Reset the simulation\n",
    "    remove_schedule(wntk_copy)\n",
    "    wntk_copy.reset_initial_values()\n"
   ]
  },
  {
   "cell_type": "markdown",
   "metadata": {},
   "source": [
    "## Cost Analysis"
   ]
  },
  {
   "cell_type": "code",
   "execution_count": null,
   "metadata": {},
   "outputs": [],
   "source": [
    "cost_analysis(analysis_individual)"
   ]
  },
  {
   "cell_type": "markdown",
   "metadata": {},
   "source": [
    "## Demand Analysis"
   ]
  },
  {
   "cell_type": "code",
   "execution_count": null,
   "metadata": {},
   "outputs": [],
   "source": [
    "demand_analysis(analysis_individual)"
   ]
  }
 ],
 "metadata": {
  "kernelspec": {
   "display_name": ".venv",
   "language": "python",
   "name": "python3"
  },
  "language_info": {
   "codemirror_mode": {
    "name": "ipython",
    "version": 3
   },
   "file_extension": ".py",
   "mimetype": "text/x-python",
   "name": "python",
   "nbconvert_exporter": "python",
   "pygments_lexer": "ipython3",
   "version": "3.9.6"
  }
 },
 "nbformat": 4,
 "nbformat_minor": 2
}
