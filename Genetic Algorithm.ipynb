{
 "cells": [
  {
   "cell_type": "markdown",
   "id": "9d8178e1-7fb1-402d-a71f-a51b31a89053",
   "metadata": {},
   "source": [
    " # Libraries Installation"
   ]
  },
  {
   "cell_type": "code",
   "execution_count": 76,
   "id": "963dd2c3-5dd6-43b4-a864-89b05ee25831",
   "metadata": {},
   "outputs": [
    {
     "name": "stdout",
     "output_type": "stream",
     "text": [
      "Requirement already satisfied: wntr in ./.venv/lib/python3.9/site-packages (from -r requirements.txt (line 1)) (1.3.2)\n",
      "Requirement already satisfied: deap in ./.venv/lib/python3.9/site-packages (from -r requirements.txt (line 2)) (1.4.2)\n",
      "Requirement already satisfied: joblib in ./.venv/lib/python3.9/site-packages (from -r requirements.txt (line 3)) (1.4.2)\n",
      "Requirement already satisfied: numpy in ./.venv/lib/python3.9/site-packages (from -r requirements.txt (line 4)) (1.26.4)\n",
      "Requirement already satisfied: matplotlib in ./.venv/lib/python3.9/site-packages (from -r requirements.txt (line 5)) (3.9.4)\n",
      "Requirement already satisfied: pandas in ./.venv/lib/python3.9/site-packages (from -r requirements.txt (line 6)) (2.2.3)\n",
      "Collecting pint\n",
      "  Downloading Pint-0.24.4-py3-none-any.whl (302 kB)\n",
      "\u001b[K     |████████████████████████████████| 302 kB 2.7 MB/s eta 0:00:01\n",
      "\u001b[?25hRequirement already satisfied: networkx in ./.venv/lib/python3.9/site-packages (from wntr->-r requirements.txt (line 1)) (3.2.1)\n",
      "Requirement already satisfied: setuptools in ./.venv/lib/python3.9/site-packages (from wntr->-r requirements.txt (line 1)) (58.0.4)\n",
      "Requirement already satisfied: scipy in ./.venv/lib/python3.9/site-packages (from wntr->-r requirements.txt (line 1)) (1.13.1)\n",
      "Requirement already satisfied: importlib-resources>=3.2.0 in ./.venv/lib/python3.9/site-packages (from matplotlib->-r requirements.txt (line 5)) (6.5.2)\n",
      "Requirement already satisfied: packaging>=20.0 in ./.venv/lib/python3.9/site-packages (from matplotlib->-r requirements.txt (line 5)) (24.2)\n",
      "Requirement already satisfied: fonttools>=4.22.0 in ./.venv/lib/python3.9/site-packages (from matplotlib->-r requirements.txt (line 5)) (4.57.0)\n",
      "Requirement already satisfied: pyparsing>=2.3.1 in ./.venv/lib/python3.9/site-packages (from matplotlib->-r requirements.txt (line 5)) (3.2.3)\n",
      "Requirement already satisfied: cycler>=0.10 in ./.venv/lib/python3.9/site-packages (from matplotlib->-r requirements.txt (line 5)) (0.12.1)\n",
      "Requirement already satisfied: python-dateutil>=2.7 in ./.venv/lib/python3.9/site-packages (from matplotlib->-r requirements.txt (line 5)) (2.9.0.post0)\n",
      "Requirement already satisfied: pillow>=8 in ./.venv/lib/python3.9/site-packages (from matplotlib->-r requirements.txt (line 5)) (11.2.1)\n",
      "Requirement already satisfied: kiwisolver>=1.3.1 in ./.venv/lib/python3.9/site-packages (from matplotlib->-r requirements.txt (line 5)) (1.4.7)\n",
      "Requirement already satisfied: contourpy>=1.0.1 in ./.venv/lib/python3.9/site-packages (from matplotlib->-r requirements.txt (line 5)) (1.3.0)\n",
      "Requirement already satisfied: tzdata>=2022.7 in ./.venv/lib/python3.9/site-packages (from pandas->-r requirements.txt (line 6)) (2025.2)\n",
      "Requirement already satisfied: pytz>=2020.1 in ./.venv/lib/python3.9/site-packages (from pandas->-r requirements.txt (line 6)) (2025.2)\n",
      "Collecting flexcache>=0.3\n",
      "  Downloading flexcache-0.3-py3-none-any.whl (13 kB)\n",
      "Collecting flexparser>=0.4\n",
      "  Downloading flexparser-0.4-py3-none-any.whl (27 kB)\n",
      "Requirement already satisfied: typing-extensions>=4.0.0 in ./.venv/lib/python3.9/site-packages (from pint->-r requirements.txt (line 7)) (4.13.2)\n",
      "Requirement already satisfied: platformdirs>=2.1.0 in ./.venv/lib/python3.9/site-packages (from pint->-r requirements.txt (line 7)) (4.3.7)\n",
      "Requirement already satisfied: zipp>=3.1.0 in ./.venv/lib/python3.9/site-packages (from importlib-resources>=3.2.0->matplotlib->-r requirements.txt (line 5)) (3.21.0)\n",
      "Requirement already satisfied: six>=1.5 in ./.venv/lib/python3.9/site-packages (from python-dateutil>=2.7->matplotlib->-r requirements.txt (line 5)) (1.17.0)\n",
      "Installing collected packages: flexparser, flexcache, pint\n",
      "Successfully installed flexcache-0.3 flexparser-0.4 pint-0.24.4\n",
      "\u001b[33mWARNING: You are using pip version 21.2.4; however, version 25.0.1 is available.\n",
      "You should consider upgrading via the '/Users/meherdasu/Documents/Git-Hub_Projects/Water-Network-Pump-Scheduling-Optimization/.venv/bin/python3 -m pip install --upgrade pip' command.\u001b[0m\n"
     ]
    }
   ],
   "source": [
    "# Install the necessary libraries as mentioned in file requrirements.txt\n",
    "!pip install -r requirements.txt"
   ]
  },
  {
   "cell_type": "markdown",
   "id": "ac87eb40-ad0d-464a-a0cc-ba2187b85905",
   "metadata": {},
   "source": [
    "# Genetic Algorithm"
   ]
  },
  {
   "cell_type": "markdown",
   "id": "7f882a4e-4be5-4529-b945-b04d37c6894d",
   "metadata": {},
   "source": [
    "## Setting up Manual Functions"
   ]
  },
  {
   "cell_type": "markdown",
   "id": "bae78b27-bebc-4660-80c7-bb1ef8a00665",
   "metadata": {},
   "source": [
    "### Repair Function Setup"
   ]
  },
  {
   "cell_type": "code",
   "execution_count": 21,
   "id": "402badcf-bd38-4107-b49b-a43a16134a7f",
   "metadata": {},
   "outputs": [],
   "source": [
    "def repair():\n",
    "    pass"
   ]
  },
  {
   "cell_type": "markdown",
   "id": "256ea15b-0550-41b8-ae2a-8797ec3d8f85",
   "metadata": {},
   "source": [
    "### Objective Function Setup"
   ]
  },
  {
   "cell_type": "code",
   "execution_count": 22,
   "id": "8768834a-a43b-47a6-90b5-0284df5ea2bf",
   "metadata": {},
   "outputs": [],
   "source": [
    "def evaluation():\n",
    "    pass"
   ]
  },
  {
   "cell_type": "markdown",
   "id": "1103047f-6b5e-4218-bb0e-9b443fcd8f9a",
   "metadata": {},
   "source": [
    "## Setting up DEAP framework"
   ]
  },
  {
   "cell_type": "markdown",
   "id": "3f07cab5-438e-4c76-9e89-670e26befbd8",
   "metadata": {},
   "source": [
    "### Setting up Libraries"
   ]
  },
  {
   "cell_type": "code",
   "execution_count": 19,
   "id": "b90daa2a-7dce-4042-88be-e6ba112944df",
   "metadata": {},
   "outputs": [],
   "source": [
    "# Necessary Libraries for DEAP and Torch\n",
    "from deap import base, tools, creator, algorithms"
   ]
  },
  {
   "cell_type": "code",
   "execution_count": null,
   "id": "f8fefafa-bcd7-43ac-93ac-28bdeefa962f",
   "metadata": {},
   "outputs": [
    {
     "name": "stderr",
     "output_type": "stream",
     "text": [
      "/Users/meherdasu/Documents/Git-Hub_Projects/Water-Network-Pump-Scheduling-Optimization/.venv/lib/python3.9/site-packages/deap/creator.py:185: RuntimeWarning: A class named 'FitnessMulti' has already been created and it will be overwritten. Consider deleting previous creation of that class or rename it.\n",
      "  warnings.warn(\"A class named '{0}' has already been created and it \"\n",
      "/Users/meherdasu/Documents/Git-Hub_Projects/Water-Network-Pump-Scheduling-Optimization/.venv/lib/python3.9/site-packages/deap/creator.py:185: RuntimeWarning: A class named 'Individual' has already been created and it will be overwritten. Consider deleting previous creation of that class or rename it.\n",
      "  warnings.warn(\"A class named '{0}' has already been created and it \"\n"
     ]
    }
   ],
   "source": [
    "import random\n",
    "\n",
    "# --- CONFIGURATION ---\n",
    "NUM_PUMPS = wn.describe(level=1)['Links']['Pumps']\n",
    "NUM_TIMESTAMPS = (int(wn.options.time.duration / wn.options.time.hydraulic_timestep) + 1)\n",
    "CHROM_SIZE = NUM_PUMPS * NUM_TIMESTAMPS  # No of Pumps * No of Timestamps\n",
    "\n",
    "# --- CREATE TYPES ---\n",
    "\n",
    "# Assigning Mult-Class Fitness Weigths\n",
    "creator.create(\"FitnessMulti\", base.Fitness, weights=(-1.0,-1.0,-1.0))\n",
    "\n",
    "# Defining Individual\n",
    "creator.create(\"Individual\", list, fitness = creator.FitnessMulti)\n",
    "\n",
    "toolbox = base.Toolbox()\n",
    "\n",
    "# --- CREATE TOOLS ---\n",
    "\n",
    "# Define Binary Genes\n",
    "toolbox.register(\"attr_bool\", random.randint, 0, 1)\n",
    "\n",
    "# Define Individual (List of Binary Values)\n",
    "toolbox.register(\"individual\", tools.initRepeat, creator.Individual, toolbox.attr_bool, n=CHROM_SIZE)\n",
    "\n",
    "# Define Random Population\n",
    "toolbox.register(\"population\", tools.initRepeat, list, toolbox.individual)\n",
    "\n",
    "# Register the Fitness function\n",
    "toolbox.register(\"evaluate\", evaluation)\n",
    "\n",
    "# Define Selection Methodology\n",
    "toolbox.register(\"select\", tools.selNSGA3)\n",
    "\n",
    "# Define Crossover Methodology\n",
    "toolbox.register(\"mate\", tools.cxTwoPoints)\n",
    "\n",
    "# Define Mutation Methodology\n",
    "toolbox.register(\"mutate\", tools.mutFlipBit, indpb = 0.1)\n",
    "\n",
    "# Set Hall of Fame\n",
    "hof = tools.HallOfFame(10)"
   ]
  },
  {
   "cell_type": "code",
   "execution_count": null,
   "metadata": {},
   "outputs": [],
   "source": [
    "# --- GENETIC ALGO LOOP---\n",
    "\n",
    "def run_ga(pop_size = 40, generations = 5, cx_prob = 0.7, mut_prob = 0.4):\n",
    "    \n",
    "    population = toolbox.population(n = pop_size)\n",
    "\n",
    "    # Multi-Objective Statistics\n",
    "    stats = tools.Statistics(lambda ind: ind.fitness.values)\n",
    "\n",
    "    # Run the Genetic Algorithm\n",
    "    population, logbook = algorithms.eaMuPlusLambda(population=population,\n",
    "                                                    toolbox=toolbox,\n",
    "                                                    mu = round(pop_size * 0.7)\n",
    "                                                    lambda_= round(pop_size * 0.5),\n",
    "                                                    cxpb=cx_prob,\n",
    "                                                    mutpb=mut_prob,\n",
    "                                                    ngen=generations,\n",
    "                                                    stats=stats,\n",
    "                                                    halloffame=hof,\n",
    "                                                    verbose=True,\n",
    "                                                    )\n",
    "    \n",
    "    best_inds = hof\n",
    "    print(\"Best Individual : \", best_inds)\n",
    "    print(\"Fitness : \", best_inds.fitness.values)\n",
    "\n",
    "    return best_inds, logbook, population, hof\n",
    "\n",
    "best_sols, logbook, population, hof = run_ga()"
   ]
  },
  {
   "cell_type": "markdown",
   "id": "dca6bec3-7d27-4311-954e-bbfb33fc755a",
   "metadata": {},
   "source": [
    "# Network Simulation testing"
   ]
  },
  {
   "cell_type": "code",
   "execution_count": null,
   "metadata": {},
   "outputs": [
    {
     "name": "stdout",
     "output_type": "stream",
     "text": [
      "2 days, 18:22:00\n"
     ]
    }
   ],
   "source": [
    "import copy # Must use to avoid modifying the original object\n",
    "import wntr\n",
    "import numpy as np\n",
    "from datetime import timedelta\n",
    "\n",
    "wn = wntr.network.WaterNetworkModel('Network Files/Net3.inp')\n",
    "wn_copy = copy.deepcopy(wn) # To be used inside the loop"
   ]
  },
  {
   "cell_type": "markdown",
   "metadata": {},
   "source": [
    "## Auxiliary Functions"
   ]
  },
  {
   "cell_type": "code",
   "execution_count": null,
   "metadata": {},
   "outputs": [],
   "source": [
    "# --- SCHEDULE ADDITION ---\n",
    "\n",
    "def add_schedule(schedule, wntk):\n",
    "    for i in range(wntk.describe(level=1)['Links']['Pumps']):\n",
    "        for j in range(int(wntk.options.time.duration / wntk.options.time.hydraulic_timestep) + 1):\n",
    "            pump = wntk.get_link(wntk.pump_name_list[i])\n",
    "            condition = wntr.network.controls.SimTimeCondition(wntk, '=', str(timedelta(hours=j)))\n",
    "            action = wntr.network.controls.ControlAction(pump, 'status', schedule[i][j])\n",
    "            control = wntr.network.controls.Control(condition, action, name=f'Control_pump{i}_time{j}')\n",
    "            wntk.add_control(f\"Control Pump ID : {i}, Hour : {j}\", control)"
   ]
  },
  {
   "cell_type": "code",
   "execution_count": null,
   "metadata": {},
   "outputs": [],
   "source": [
    "# --- ADDED SCHEDULE REMOVAL {EXCLUSIVELY THE ONES FROM ADD SCHEDULE}---\n",
    "\n",
    "def remove_schedule(wntk):\n",
    "    for i in range(wntk.describe(level=1)['Links']['Pumps']):\n",
    "        for j in range(int(wntk.options.time.duration / wntk.options.time.hydraulic_timestep) + 1):\n",
    "            wntk.remove_control(f\"Control Pump ID : {i}, Hour : {j}\")"
   ]
  },
  {
   "cell_type": "code",
   "execution_count": null,
   "metadata": {},
   "outputs": [],
   "source": [
    "# --- RESHAPE INDIVIDUAL TO SCHEDULE ---\n",
    "\n",
    "def reshape_individual(individual, wntk):\n",
    "\n",
    "    # Reshape the individual to a 2D array\n",
    "    schedule = np.array(individual).reshape(wntk.describe(level=1)['Links']['Pumps'], (int(wntk.options.time.duration / wntk.options.time.hydraulic_timestep) + 1)).tolist()\n",
    "\n",
    "    return schedule"
   ]
  },
  {
   "cell_type": "code",
   "execution_count": null,
   "metadata": {},
   "outputs": [],
   "source": [
    "# --- FEASIBILITY CHECK FUNCTION ---\n",
    "\n",
    "def check_feasibility(individual, wntk):\n",
    "    \"\"\"\n",
    "    Function to check the feasibility of a given individual.\n",
    "    \"\"\"\n",
    "    pass"
   ]
  },
  {
   "cell_type": "code",
   "execution_count": null,
   "metadata": {},
   "outputs": [],
   "source": [
    "# --- OBJECTIVE CALCULATION FUNCTION ---\n",
    "\n",
    "def calculate_objective(individual, wntk):\n",
    "    \"\"\"\n",
    "    Function to calculate the objective value for a given individual.\n",
    "    \"\"\"\n",
    "    pass\n"
   ]
  }
 ],
 "metadata": {
  "kernelspec": {
   "display_name": ".venv",
   "language": "python",
   "name": "python3"
  },
  "language_info": {
   "codemirror_mode": {
    "name": "ipython",
    "version": 3
   },
   "file_extension": ".py",
   "mimetype": "text/x-python",
   "name": "python",
   "nbconvert_exporter": "python",
   "pygments_lexer": "ipython3",
   "version": "3.9.6"
  }
 },
 "nbformat": 4,
 "nbformat_minor": 2
}
