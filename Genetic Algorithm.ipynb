{
 "cells": [
  {
   "cell_type": "markdown",
   "id": "9d8178e1-7fb1-402d-a71f-a51b31a89053",
   "metadata": {},
   "source": [
    " # Libraries Installation"
   ]
  },
  {
   "cell_type": "markdown",
   "metadata": {},
   "source": [
    "### OS Issues\n",
    "\n",
    "* EPANET Simulator under wntr doesn't work in MacOS, Linux but does in Windows\n",
    "* Windows has (.dll) precompiled but MacOS needs it to be compiled (.dylib)\n",
    "* Working on compiling .dylib and .so for MacOS and Linux"
   ]
  },
  {
   "cell_type": "code",
   "execution_count": 23,
   "metadata": {},
   "outputs": [],
   "source": [
    "# MacOS specific .dylib \n",
    "from pathlib import Path\n",
    "import os\n",
    "import platform\n",
    "\n",
    "system_os = platform.system()\n",
    "\n",
    "# Get current script directory\n",
    "base_path = Path().resolve()\n",
    "\n",
    "if system_os == \"Darwin\":  # macOS\n",
    "    epanet_lib_path = base_path / \"lib\" / \"libepanet.dylib\"\n",
    "    os.environ[\"EPANET_PATH\"] = str(epanet_lib_path)\n",
    "\n",
    "elif system_os == \"Linux\":\n",
    "    epanet_lib_path = base_path / \"lib\" / \"libepanet.so\"\n",
    "    os.environ[\"EPANET_PATH\"] = str(epanet_lib_path)\n",
    "\n",
    "elif system_os == \"Windows\":\n",
    "    print(\"Windows detected. No need to set EPANET_PATH.\")\n",
    "\n",
    "else:\n",
    "    raise EnvironmentError(f\"Unsupported OS: {system_os}\")\n",
    "\n"
   ]
  },
  {
   "cell_type": "code",
   "execution_count": 24,
   "id": "963dd2c3-5dd6-43b4-a864-89b05ee25831",
   "metadata": {},
   "outputs": [
    {
     "name": "stdout",
     "output_type": "stream",
     "text": [
      "Requirement already satisfied: pip in ./.venv/lib/python3.9/site-packages (25.0.1)\n",
      "Note: you may need to restart the kernel to use updated packages.\n",
      "Requirement already satisfied: wntr in ./.venv/lib/python3.9/site-packages (from -r requirements.txt (line 1)) (1.3.2)\n",
      "Requirement already satisfied: deap in ./.venv/lib/python3.9/site-packages (from -r requirements.txt (line 2)) (1.4.2)\n",
      "Requirement already satisfied: joblib in ./.venv/lib/python3.9/site-packages (from -r requirements.txt (line 3)) (1.4.2)\n",
      "Requirement already satisfied: numpy in ./.venv/lib/python3.9/site-packages (from -r requirements.txt (line 4)) (1.26.4)\n",
      "Requirement already satisfied: matplotlib in ./.venv/lib/python3.9/site-packages (from -r requirements.txt (line 5)) (3.9.4)\n",
      "Requirement already satisfied: pandas in ./.venv/lib/python3.9/site-packages (from -r requirements.txt (line 6)) (2.2.3)\n",
      "Requirement already satisfied: scipy in ./.venv/lib/python3.9/site-packages (from wntr->-r requirements.txt (line 1)) (1.13.1)\n",
      "Requirement already satisfied: networkx in ./.venv/lib/python3.9/site-packages (from wntr->-r requirements.txt (line 1)) (3.2.1)\n",
      "Requirement already satisfied: setuptools in ./.venv/lib/python3.9/site-packages (from wntr->-r requirements.txt (line 1)) (58.0.4)\n",
      "Requirement already satisfied: contourpy>=1.0.1 in ./.venv/lib/python3.9/site-packages (from matplotlib->-r requirements.txt (line 5)) (1.3.0)\n",
      "Requirement already satisfied: cycler>=0.10 in ./.venv/lib/python3.9/site-packages (from matplotlib->-r requirements.txt (line 5)) (0.12.1)\n",
      "Requirement already satisfied: fonttools>=4.22.0 in ./.venv/lib/python3.9/site-packages (from matplotlib->-r requirements.txt (line 5)) (4.57.0)\n",
      "Requirement already satisfied: kiwisolver>=1.3.1 in ./.venv/lib/python3.9/site-packages (from matplotlib->-r requirements.txt (line 5)) (1.4.7)\n",
      "Requirement already satisfied: packaging>=20.0 in ./.venv/lib/python3.9/site-packages (from matplotlib->-r requirements.txt (line 5)) (24.2)\n",
      "Requirement already satisfied: pillow>=8 in ./.venv/lib/python3.9/site-packages (from matplotlib->-r requirements.txt (line 5)) (11.2.1)\n",
      "Requirement already satisfied: pyparsing>=2.3.1 in ./.venv/lib/python3.9/site-packages (from matplotlib->-r requirements.txt (line 5)) (3.2.3)\n",
      "Requirement already satisfied: python-dateutil>=2.7 in ./.venv/lib/python3.9/site-packages (from matplotlib->-r requirements.txt (line 5)) (2.9.0.post0)\n",
      "Requirement already satisfied: importlib-resources>=3.2.0 in ./.venv/lib/python3.9/site-packages (from matplotlib->-r requirements.txt (line 5)) (6.5.2)\n",
      "Requirement already satisfied: pytz>=2020.1 in ./.venv/lib/python3.9/site-packages (from pandas->-r requirements.txt (line 6)) (2025.2)\n",
      "Requirement already satisfied: tzdata>=2022.7 in ./.venv/lib/python3.9/site-packages (from pandas->-r requirements.txt (line 6)) (2025.2)\n",
      "Requirement already satisfied: zipp>=3.1.0 in ./.venv/lib/python3.9/site-packages (from importlib-resources>=3.2.0->matplotlib->-r requirements.txt (line 5)) (3.21.0)\n",
      "Requirement already satisfied: six>=1.5 in ./.venv/lib/python3.9/site-packages (from python-dateutil>=2.7->matplotlib->-r requirements.txt (line 5)) (1.17.0)\n",
      "Note: you may need to restart the kernel to use updated packages.\n"
     ]
    }
   ],
   "source": [
    "# Upgrade pip and install packages from requirements.txt (cross-platform safe)\n",
    "%pip install --upgrade pip\n",
    "%pip install -r requirements.txt"
   ]
  },
  {
   "cell_type": "markdown",
   "id": "ac87eb40-ad0d-464a-a0cc-ba2187b85905",
   "metadata": {},
   "source": [
    "# Genetic Algorithm"
   ]
  },
  {
   "cell_type": "markdown",
   "id": "7f882a4e-4be5-4529-b945-b04d37c6894d",
   "metadata": {},
   "source": [
    "## Setting up Manual Functions"
   ]
  },
  {
   "cell_type": "markdown",
   "metadata": {},
   "source": [
    "### Importing Libraries"
   ]
  },
  {
   "cell_type": "code",
   "execution_count": 25,
   "metadata": {},
   "outputs": [],
   "source": [
    "import wntr\n",
    "import numpy as np\n",
    "from datetime import timedelta\n",
    "import pandas as pd\n",
    "import random\n",
    "import copy"
   ]
  },
  {
   "cell_type": "markdown",
   "id": "bae78b27-bebc-4660-80c7-bb1ef8a00665",
   "metadata": {},
   "source": [
    "### Auxiliary Functions"
   ]
  },
  {
   "cell_type": "code",
   "execution_count": 26,
   "metadata": {},
   "outputs": [],
   "source": [
    "# --- RESHAPE INDIVIDUAL TO SCHEDULE ---\n",
    "\n",
    "def reshape_individual(individual, wntk):\n",
    "\n",
    "    # Reshape the individual to a 2D array\n",
    "    schedule = np.array(individual).reshape(wntk.describe(level=1)['Links']['Pumps'], (int(wntk.options.time.duration / wntk.options.time.hydraulic_timestep) + 1)).tolist()\n",
    "\n",
    "    return schedule"
   ]
  },
  {
   "cell_type": "code",
   "execution_count": 27,
   "metadata": {},
   "outputs": [],
   "source": [
    "# --- SCHEDULE ADDITION ---\n",
    "\n",
    "def add_schedule(schedule, wntk):\n",
    "    for i in range(wntk.describe(level=1)['Links']['Pumps']):\n",
    "        for j in range(int(wntk.options.time.duration / wntk.options.time.hydraulic_timestep) + 1):\n",
    "            pump = wntk.get_link(wntk.pump_name_list[i])\n",
    "            condition = wntr.network.controls.SimTimeCondition(wntk, '=', str(timedelta(hours=j)))\n",
    "            action = wntr.network.controls.ControlAction(pump, 'status', schedule[i][j])\n",
    "            control = wntr.network.controls.Control(condition, action, name=f'Control_pump{i}_time{j}')\n",
    "            wntk.add_control(f\"Control Pump ID : {i}, Hour : {j}\", control)"
   ]
  },
  {
   "cell_type": "code",
   "execution_count": 28,
   "metadata": {},
   "outputs": [],
   "source": [
    "# --- ADDED SCHEDULE REMOVAL {EXCLUSIVELY THE ONES FROM ADD SCHEDULE}---\n",
    "\n",
    "def remove_schedule(wntk):\n",
    "    for i in range(wntk.describe(level=1)['Links']['Pumps']):\n",
    "        for j in range(int(wntk.options.time.duration / wntk.options.time.hydraulic_timestep) + 1):\n",
    "            wntk.remove_control(f\"Control Pump ID : {i}, Hour : {j}\")"
   ]
  },
  {
   "cell_type": "code",
   "execution_count": 29,
   "metadata": {},
   "outputs": [],
   "source": [
    "# --- COST OBJECTIVE FUNCTION ---\n",
    "def cost_objective(wntk):\n",
    "    # Running Epanet simulation\n",
    "    simulation = wntr.sim.EpanetSimulator(wntk)\n",
    "    results = simulation.run_sim()\n",
    "\n",
    "    # Obtaining cost objective\n",
    "    base_cost = 5 # Base cost per hour\n",
    "    cost_pattern = np.array([0.7]*6 + [1.2]*12 + [1]*7).T # Len must be equal to the number of time steps + 1 (25 in this case)\n",
    "    energy_array = results.link['headloss'][wntk.pump_name_list].to_numpy().T  \n",
    "    cost_array = cost_pattern * energy_array              \n",
    "    total_cost = -1 * np.sum(np.sum(cost_array)) * base_cost # Headloss is -ve in Pump, Hence the -1 to obtain the cost\n",
    "    \n",
    "    return total_cost"
   ]
  },
  {
   "cell_type": "code",
   "execution_count": 30,
   "metadata": {},
   "outputs": [],
   "source": [
    "# --- DEMAND OBJECTIVE FUNCTION ---\n",
    "def demand_objective(wntk):\n",
    "    # NOTE : The required_pressure, minimum_pressure, pressure_exponent can be applied separately for each node (refer to the WNTR documentation hydraulics.rst)\n",
    "    # For sake of simplicity, we are using the same values for all nodes\n",
    "\n",
    "    # Setting up Pressure Driven Demand model\n",
    "    wntk.options.hydraulic.demand_model = 'PDD'\n",
    "    wntk.options.hydraulic.required_pressure = 50\n",
    "    \n",
    "    # Running WNTR simulation\n",
    "    simulation = wntr.sim.WNTRSimulator(wntk)\n",
    "    results = simulation.run_sim()\n",
    "\n",
    "    # Obtaining demand objective\n",
    "    expected_demand = wntr.metrics.expected_demand(wntk)\n",
    "    demand = results.node['demand'].loc[:,wntk.junction_name_list]    \n",
    "    wsa = wntr.metrics.water_service_availability(expected_demand, demand)\n",
    "    wsd = 1 - wsa.where(pd.isna(wsa), wsa) # water service deficit\n",
    "    total_demand = np.nansum(wsd.to_numpy())\n",
    "\n",
    "    return total_demand"
   ]
  },
  {
   "cell_type": "markdown",
   "id": "1103047f-6b5e-4218-bb0e-9b443fcd8f9a",
   "metadata": {},
   "source": [
    "## Setting up DEAP framework"
   ]
  },
  {
   "cell_type": "markdown",
   "id": "3f07cab5-438e-4c76-9e89-670e26befbd8",
   "metadata": {},
   "source": [
    "### Setting up Libraries"
   ]
  },
  {
   "cell_type": "code",
   "execution_count": 31,
   "id": "b90daa2a-7dce-4042-88be-e6ba112944df",
   "metadata": {},
   "outputs": [],
   "source": [
    "# Necessary Libraries for DEAP and Torch\n",
    "from deap import base, tools, creator, algorithms\n",
    "\n",
    "# --- CONFIGURATION ---\n",
    "wn = wntr.network.WaterNetworkModel('Network Files/Net3.inp')\n",
    "NUM_PUMPS = wn.describe(level=1)['Links']['Pumps']\n",
    "NUM_TIMESTAMPS = (int(wn.options.time.duration / wn.options.time.hydraulic_timestep) + 1)\n",
    "CHROM_SIZE = NUM_PUMPS * NUM_TIMESTAMPS  # No of Pumps * No of Timestamps"
   ]
  },
  {
   "cell_type": "markdown",
   "id": "256ea15b-0550-41b8-ae2a-8797ec3d8f85",
   "metadata": {},
   "source": [
    "### Evaluation Function"
   ]
  },
  {
   "cell_type": "code",
   "execution_count": 32,
   "id": "8768834a-a43b-47a6-90b5-0284df5ea2bf",
   "metadata": {},
   "outputs": [],
   "source": [
    "# --- EVALUATION FUNCTION ---\n",
    "\n",
    "def evaluation(individual, wntk = wn):\n",
    "\n",
    "    wntk_copy = copy.deepcopy(wntk)\n",
    "\n",
    "    # Reshape the individual to a schedule\n",
    "    schedule = reshape_individual(individual, wntk_copy)\n",
    "\n",
    "    # Add the schedule to the WNTR model\n",
    "    add_schedule(schedule, wntk_copy)\n",
    "\n",
    "    # Set Demand Analysis Model (PDA)\n",
    "    wntk_copy.options.hydraulic.demand_model = 'PDD'\n",
    "    wntk_copy.options.hydraulic.required_pressure = 150\n",
    "\n",
    "    # Get Cost Objective - NOTE !!! Price pattern is defined in cost objective function and can be changed inside the cost objective function if necessary\n",
    "    cost = cost_objective(wntk_copy)\n",
    "\n",
    "    # Get Demand Objective\n",
    "    demand = demand_objective(wntk_copy)\n",
    "\n",
    "    # Reset the simulation\n",
    "    remove_schedule(wntk_copy)\n",
    "    wntk_copy.reset_initial_values()\n",
    "\n",
    "    return cost , demand"
   ]
  },
  {
   "cell_type": "code",
   "execution_count": null,
   "id": "f8fefafa-bcd7-43ac-93ac-28bdeefa962f",
   "metadata": {},
   "outputs": [],
   "source": [
    "# --- CREATE TYPES ---\n",
    "\n",
    "# Assigning Mult-Class Fitness Weigths\n",
    "creator.create(\"FitnessMulti\", base.Fitness, weights=(-1.0,-1000.0,))\n",
    "\n",
    "# Defining Individual\n",
    "creator.create(\"Individual\", list, fitness = creator.FitnessMulti)\n",
    "\n",
    "toolbox = base.Toolbox()\n",
    "\n",
    "# --- CREATE TOOLS ---\n",
    "\n",
    "# Define Binary Genes\n",
    "toolbox.register(\"attr_bool\", random.randint, 0, 1)\n",
    "\n",
    "# Define Individual (List of Binary Values)\n",
    "toolbox.register(\"individual\", tools.initRepeat, creator.Individual, toolbox.attr_bool, n=CHROM_SIZE)\n",
    "\n",
    "# Define Random Population\n",
    "toolbox.register(\"population\", tools.initRepeat, list, toolbox.individual)\n",
    "\n",
    "# Register the Fitness function\n",
    "toolbox.register(\"evaluate\", evaluation)\n",
    "\n",
    "# Define Selection Methodology\n",
    "toolbox.register(\"select\", tools.selNSGA2)\n",
    "\n",
    "# Define Crossover Methodology\n",
    "toolbox.register(\"mate\", tools.cxTwoPoint)\n",
    "\n",
    "# Define Mutation Methodology\n",
    "toolbox.register(\"mutate\", tools.mutFlipBit, indpb = 0.1)\n",
    "\n",
    "# Set Hall of Fame\n",
    "hof = tools.HallOfFame(10)"
   ]
  },
  {
   "cell_type": "code",
   "execution_count": null,
   "metadata": {},
   "outputs": [],
   "source": [
    "# --- GENETIC ALGO LOOP---\n",
    "\n",
    "def run_ga(pop_size = 40, generations = 5, cx_prob = 0.7, mut_prob = 0.3):\n",
    "    #Create\n",
    "    population = toolbox.population(n = pop_size)\n",
    "\n",
    "    # Multi-Objective Statistics\n",
    "    stats = tools.Statistics(lambda ind: ind.fitness.values)\n",
    "\n",
    "    # Register statistics for each objective separately\n",
    "    stats.register(\"avg_cost\", lambda fits: np.mean([f[0] for f in fits]))\n",
    "    stats.register(\"min_cost\", lambda fits: np.min([f[0] for f in fits]))\n",
    "    stats.register(\"max_cost\", lambda fits: np.max([f[0] for f in fits]))\n",
    "\n",
    "    stats.register(\"avg_demand\", lambda fits: np.mean([f[1] for f in fits]))\n",
    "    stats.register(\"min_demand\", lambda fits: np.min([f[1] for f in fits]))\n",
    "    stats.register(\"max_demand\", lambda fits: np.max([f[1] for f in fits]))\n",
    "\n",
    "    # Run the Genetic Algorithm\n",
    "    population, logbook = algorithms.eaMuPlusLambda(\n",
    "        population=population,\n",
    "        toolbox=toolbox,\n",
    "        mu = round(pop_size * 0.7),\n",
    "        lambda_= round(pop_size * 0.5),\n",
    "        cxpb=cx_prob,\n",
    "        mutpb=mut_prob,\n",
    "        ngen=generations,\n",
    "        stats=stats,\n",
    "        halloffame=hof,\n",
    "        verbose=True,\n",
    "    )\n",
    "    \n",
    "    best_ind = hof[0]\n",
    "    print(\"Best Individual : \", best_ind)\n",
    "    print(\"Fitness : \", best_ind.fitness.values)\n",
    "\n",
    "    return best_ind, logbook, population, hof\n",
    "\n",
    "best_sol, logbook, population, hof = run_ga()"
   ]
  }
 ],
 "metadata": {
  "kernelspec": {
   "display_name": ".venv",
   "language": "python",
   "name": "python3"
  },
  "language_info": {
   "codemirror_mode": {
    "name": "ipython",
    "version": 3
   },
   "file_extension": ".py",
   "mimetype": "text/x-python",
   "name": "python",
   "nbconvert_exporter": "python",
   "pygments_lexer": "ipython3",
   "version": "3.9.6"
  }
 },
 "nbformat": 4,
 "nbformat_minor": 2
}
