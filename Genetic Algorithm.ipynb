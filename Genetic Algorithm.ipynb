{
 "cells": [
  {
   "cell_type": "markdown",
   "id": "9d8178e1-7fb1-402d-a71f-a51b31a89053",
   "metadata": {},
   "source": [
    " # Libraries and Network Setup"
   ]
  },
  {
   "cell_type": "code",
   "execution_count": null,
   "id": "963dd2c3-5dd6-43b4-a864-89b05ee25831",
   "metadata": {},
   "outputs": [
    {
     "name": "stdout",
     "output_type": "stream",
     "text": [
      "Collecting wntr\n",
      "  Using cached wntr-1.3.2-cp39-cp39-macosx_14_0_arm64.whl (2.4 MB)\n",
      "Collecting deap\n",
      "  Using cached deap-1.4.2.tar.gz (1.1 MB)\n",
      "Collecting joblib\n",
      "  Using cached joblib-1.4.2-py3-none-any.whl (301 kB)\n",
      "Collecting numpy\n",
      "  Using cached numpy-2.0.2-cp39-cp39-macosx_14_0_arm64.whl (5.3 MB)\n",
      "Collecting matplotlib\n",
      "  Using cached matplotlib-3.9.4-cp39-cp39-macosx_11_0_arm64.whl (7.8 MB)\n",
      "Collecting pandas\n",
      "  Using cached pandas-2.2.3-cp39-cp39-macosx_11_0_arm64.whl (11.3 MB)\n",
      "Collecting numpy\n",
      "  Using cached numpy-1.26.4-cp39-cp39-macosx_11_0_arm64.whl (14.0 MB)\n",
      "Collecting networkx\n",
      "  Using cached networkx-3.2.1-py3-none-any.whl (1.6 MB)\n",
      "Collecting scipy\n",
      "  Using cached scipy-1.13.1-cp39-cp39-macosx_12_0_arm64.whl (30.3 MB)\n",
      "Requirement already satisfied: setuptools in ./.venv/lib/python3.9/site-packages (from wntr->-r requirements.txt (line 1)) (58.0.4)\n",
      "Collecting cycler>=0.10\n",
      "  Using cached cycler-0.12.1-py3-none-any.whl (8.3 kB)\n",
      "Collecting pyparsing>=2.3.1\n",
      "  Using cached pyparsing-3.2.3-py3-none-any.whl (111 kB)\n",
      "Collecting pillow>=8\n",
      "  Using cached pillow-11.2.1-cp39-cp39-macosx_11_0_arm64.whl (3.0 MB)\n",
      "Collecting contourpy>=1.0.1\n",
      "  Using cached contourpy-1.3.0-cp39-cp39-macosx_11_0_arm64.whl (249 kB)\n",
      "Collecting importlib-resources>=3.2.0\n",
      "  Using cached importlib_resources-6.5.2-py3-none-any.whl (37 kB)\n",
      "Collecting fonttools>=4.22.0\n",
      "  Using cached fonttools-4.57.0-cp39-cp39-macosx_10_9_universal2.whl (2.8 MB)\n",
      "Collecting packaging>=20.0\n",
      "  Using cached packaging-24.2-py3-none-any.whl (65 kB)\n",
      "Collecting kiwisolver>=1.3.1\n",
      "  Using cached kiwisolver-1.4.7-cp39-cp39-macosx_11_0_arm64.whl (64 kB)\n",
      "Collecting python-dateutil>=2.7\n",
      "  Using cached python_dateutil-2.9.0.post0-py2.py3-none-any.whl (229 kB)\n",
      "Collecting pytz>=2020.1\n",
      "  Using cached pytz-2025.2-py2.py3-none-any.whl (509 kB)\n",
      "Collecting tzdata>=2022.7\n",
      "  Using cached tzdata-2025.2-py2.py3-none-any.whl (347 kB)\n",
      "Collecting zipp>=3.1.0\n",
      "  Using cached zipp-3.21.0-py3-none-any.whl (9.6 kB)\n",
      "Collecting six>=1.5\n",
      "  Using cached six-1.17.0-py2.py3-none-any.whl (11 kB)\n",
      "Using legacy 'setup.py install' for deap, since package 'wheel' is not installed.\n",
      "Installing collected packages: zipp, six, numpy, tzdata, pytz, python-dateutil, pyparsing, pillow, packaging, kiwisolver, importlib-resources, fonttools, cycler, contourpy, scipy, pandas, networkx, matplotlib, wntr, joblib, deap\n",
      "    Running setup.py install for deap ... \u001b[?25ldone\n",
      "\u001b[?25hSuccessfully installed contourpy-1.3.0 cycler-0.12.1 deap-1.4.2 fonttools-4.57.0 importlib-resources-6.5.2 joblib-1.4.2 kiwisolver-1.4.7 matplotlib-3.9.4 networkx-3.2.1 numpy-1.26.4 packaging-24.2 pandas-2.2.3 pillow-11.2.1 pyparsing-3.2.3 python-dateutil-2.9.0.post0 pytz-2025.2 scipy-1.13.1 six-1.17.0 tzdata-2025.2 wntr-1.3.2 zipp-3.21.0\n",
      "\u001b[33mWARNING: You are using pip version 21.2.4; however, version 25.0.1 is available.\n",
      "You should consider upgrading via the '/Users/meherdasu/Documents/WN Optimisation/.venv/bin/python3 -m pip install --upgrade pip' command.\u001b[0m\n"
     ]
    }
   ],
   "source": [
    "# Install the necessary libraries as mentioned in file requrirements.txt\n",
    "!python3 -m venv .venv\n",
    "!python3 -m pip install --upgrade pip\n",
    "!pip install -r requirements.txt"
   ]
  },
  {
   "cell_type": "markdown",
   "id": "d4d11913-778a-4a52-b9fd-53d6f8025703",
   "metadata": {},
   "source": [
    "# Loading the Network"
   ]
  },
  {
   "cell_type": "code",
   "execution_count": 2,
   "id": "3554f821-332c-441f-a0bc-1374cf96d77f",
   "metadata": {},
   "outputs": [
    {
     "name": "stderr",
     "output_type": "stream",
     "text": [
      "Matplotlib is building the font cache; this may take a moment.\n"
     ]
    }
   ],
   "source": [
    "import wntr"
   ]
  },
  {
   "cell_type": "code",
   "execution_count": 3,
   "id": "0791ba35-5876-4666-83b9-a7843b3a0606",
   "metadata": {},
   "outputs": [],
   "source": [
    "# Change the file address to work on a different network\n",
    "wn = wntr.network.WaterNetworkModel(\"Network Files/Net3.inp\")"
   ]
  },
  {
   "cell_type": "markdown",
   "id": "3dd8168c-3a37-42b6-9086-8bc1859bed49",
   "metadata": {},
   "source": [
    "## Details of the Network"
   ]
  },
  {
   "cell_type": "code",
   "execution_count": 4,
   "id": "337cf4aa-8962-43dc-adcc-d62ab42123da",
   "metadata": {},
   "outputs": [
    {
     "data": {
      "text/plain": [
       "{'Nodes': {'Junctions': 92, 'Tanks': 3, 'Reservoirs': 2},\n",
       " 'Links': {'Pipes': 117,\n",
       "  'Pumps': {'Head': 2, 'Power': 0},\n",
       "  'Valves': {'PRV': 0, 'PSV': 0, 'PBV': 0, 'TCV': 0, 'FCV': 0, 'GPV': 0}},\n",
       " 'Patterns': 5,\n",
       " 'Curves': {'Pump': 2, 'Efficiency': 0, 'Headloss': 0, 'Volume': 0},\n",
       " 'Sources': 0,\n",
       " 'Controls': 6}"
      ]
     },
     "execution_count": 4,
     "metadata": {},
     "output_type": "execute_result"
    }
   ],
   "source": [
    "wn.describe(level=2)"
   ]
  },
  {
   "cell_type": "code",
   "execution_count": 5,
   "id": "e3446564-40b7-4077-a75d-b9fbb33d0aa4",
   "metadata": {},
   "outputs": [
    {
     "data": {
      "text/plain": [
       "['add_control',\n",
       " 'add_curve',\n",
       " 'add_junction',\n",
       " 'add_msx_model',\n",
       " 'add_pattern',\n",
       " 'add_pipe',\n",
       " 'add_pump',\n",
       " 'add_reservoir',\n",
       " 'add_source',\n",
       " 'add_tank',\n",
       " 'add_valve',\n",
       " 'assign_demand',\n",
       " 'control_name_list',\n",
       " 'controls',\n",
       " 'convert_controls_to_rules',\n",
       " 'curve_name_list',\n",
       " 'curves',\n",
       " 'describe',\n",
       " 'fcv_name_list',\n",
       " 'fcvs',\n",
       " 'from_dict',\n",
       " 'from_gis',\n",
       " 'get_control',\n",
       " 'get_curve',\n",
       " 'get_graph',\n",
       " 'get_link',\n",
       " 'get_links_for_node',\n",
       " 'get_node',\n",
       " 'get_pattern',\n",
       " 'get_source',\n",
       " 'gpv_name_list',\n",
       " 'gpvs',\n",
       " 'head_pump_name_list',\n",
       " 'head_pumps',\n",
       " 'junction_name_list',\n",
       " 'junctions',\n",
       " 'link_name_list',\n",
       " 'links',\n",
       " 'msx',\n",
       " 'name',\n",
       " 'node_name_list',\n",
       " 'nodes',\n",
       " 'num_controls',\n",
       " 'num_curves',\n",
       " 'num_junctions',\n",
       " 'num_links',\n",
       " 'num_nodes',\n",
       " 'num_patterns',\n",
       " 'num_pipes',\n",
       " 'num_pumps',\n",
       " 'num_reservoirs',\n",
       " 'num_sources',\n",
       " 'num_tanks',\n",
       " 'num_valves',\n",
       " 'options',\n",
       " 'pattern_name_list',\n",
       " 'patterns',\n",
       " 'pbv_name_list',\n",
       " 'pbvs',\n",
       " 'pipe_name_list',\n",
       " 'pipes',\n",
       " 'power_pump_name_list',\n",
       " 'power_pumps',\n",
       " 'prv_name_list',\n",
       " 'prvs',\n",
       " 'psv_name_list',\n",
       " 'psvs',\n",
       " 'pump_name_list',\n",
       " 'pumps',\n",
       " 'query_link_attribute',\n",
       " 'query_node_attribute',\n",
       " 'remove_control',\n",
       " 'remove_curve',\n",
       " 'remove_link',\n",
       " 'remove_msx_model',\n",
       " 'remove_node',\n",
       " 'remove_pattern',\n",
       " 'remove_source',\n",
       " 'reservoir_name_list',\n",
       " 'reservoirs',\n",
       " 'reset_initial_values',\n",
       " 'sim_time',\n",
       " 'source_name_list',\n",
       " 'sources',\n",
       " 'tank_name_list',\n",
       " 'tanks',\n",
       " 'tcv_name_list',\n",
       " 'tcvs',\n",
       " 'title',\n",
       " 'to_dict',\n",
       " 'to_gis',\n",
       " 'to_graph',\n",
       " 'valve_name_list',\n",
       " 'valves']"
      ]
     },
     "execution_count": 5,
     "metadata": {},
     "output_type": "execute_result"
    }
   ],
   "source": [
    "[name for name in dir(wn) if not name.startswith('_')]"
   ]
  },
  {
   "cell_type": "code",
   "execution_count": 6,
   "id": "033167a7-75c9-49b0-9857-5f5eff8b590a",
   "metadata": {},
   "outputs": [
    {
     "data": {
      "image/png": "[encoded data removed]",
      "text/plain": [
       "<Figure size 640x480 with 1 Axes>"
      ]
     },
     "metadata": {},
     "output_type": "display_data"
    }
   ],
   "source": [
    "ax = wntr.graphics.plot_network(wn)"
   ]
  },
  {
   "cell_type": "markdown",
   "id": "ac87eb40-ad0d-464a-a0cc-ba2187b85905",
   "metadata": {},
   "source": [
    "# Genetic Algorithm"
   ]
  },
  {
   "cell_type": "markdown",
   "id": "7f882a4e-4be5-4529-b945-b04d37c6894d",
   "metadata": {},
   "source": [
    "## Setting up Manual Functions"
   ]
  },
  {
   "cell_type": "markdown",
   "id": "bae78b27-bebc-4660-80c7-bb1ef8a00665",
   "metadata": {},
   "source": [
    "### Repair Function Setup"
   ]
  },
  {
   "cell_type": "code",
   "execution_count": 7,
   "id": "402badcf-bd38-4107-b49b-a43a16134a7f",
   "metadata": {},
   "outputs": [],
   "source": [
    "def repair():\n",
    "    pass"
   ]
  },
  {
   "cell_type": "markdown",
   "id": "256ea15b-0550-41b8-ae2a-8797ec3d8f85",
   "metadata": {},
   "source": [
    "### Objective Function Setup"
   ]
  },
  {
   "cell_type": "code",
   "execution_count": 8,
   "id": "8768834a-a43b-47a6-90b5-0284df5ea2bf",
   "metadata": {},
   "outputs": [],
   "source": [
    "def evaluation():\n",
    "    pass"
   ]
  },
  {
   "cell_type": "markdown",
   "id": "1103047f-6b5e-4218-bb0e-9b443fcd8f9a",
   "metadata": {},
   "source": [
    "## Setting up DEAP framework"
   ]
  },
  {
   "cell_type": "markdown",
   "id": "3f07cab5-438e-4c76-9e89-670e26befbd8",
   "metadata": {},
   "source": [
    "### Setting up Libraries"
   ]
  },
  {
   "cell_type": "code",
   "execution_count": 9,
   "id": "b90daa2a-7dce-4042-88be-e6ba112944df",
   "metadata": {},
   "outputs": [],
   "source": [
    "# Necessary Libraries for DEAP and Torch\n",
    "from deap import base, tools, creator, algorithms"
   ]
  },
  {
   "cell_type": "code",
   "execution_count": null,
   "id": "f8fefafa-bcd7-43ac-93ac-28bdeefa962f",
   "metadata": {},
   "outputs": [],
   "source": [
    "import random\n",
    "\n",
    "# --- CONFIGURATION ---\n",
    "CHROM_SIZE = wn.describe(level=1)['Links']['Pumps'] * (int(wn.options.time.duration / wn.options.time.hydraulic_timestep) + 1) # No of Pumps * No of Timestamps\n",
    "\n",
    "# --- CREATE TYPES ---\n",
    "\n",
    "# Assigning Mult-Class Fitness Weigths\n",
    "creator.create(\"FitnessMulti\", base.Fitness, weights=(-1.0,-1.0,-1.0))\n",
    "\n",
    "# Defining Individual\n",
    "creator.create(\"Individual\", list, fitness = creator.FitnessMulti)\n",
    "\n",
    "toolbox = base.Toolbox()\n",
    "\n",
    "# --- CREATE TOOLS ---\n",
    "\n",
    "# Define Binary Genes\n",
    "toolbox.register(\"attr_bool\", random.randint, 0, 1)\n",
    "\n",
    "# Define Individual (List of Binary Values)\n",
    "toolbox.register(\"individual\", tools.initRepeat, creator.Individual, toolbox.attr_bool, n=CHROM_SIZE)\n",
    "\n",
    "# Define Random Population\n",
    "toolbox.register(\"population\", tools.initRepeat, list, toolbox.individual)\n",
    "\n",
    "# Register the Fitness function\n",
    "toolbox.register(\"evaluate\", evaluation)\n",
    "\n",
    "# Define Selection Methodology\n",
    "toolbox.register(\"select\", tools.selNSGA3)\n",
    "\n",
    "# Define Crossover Methodology\n",
    "toolbox.register(\"mate\", tools.cxTwoPoints)\n",
    "\n",
    "# Define Mutation Methodology\n",
    "toolbox.register(\"mutate\", tools.mutFlipBit, indpb = 0.1)\n",
    "\n",
    "# Set Hall of Fame\n",
    "hof = tools.HallOfFame(10)\n",
    "\n",
    "# --- GENETIC ALGO ---\n",
    "\n",
    "def run_ga(pop_size = 40, generations = 5, cx_prob = 0.7, mut_prob = 0.4):\n",
    "    \n",
    "    population = toolbox.population(n = pop_size)\n",
    "\n",
    "    # Multi-Objective Statistics\n",
    "    stats = tools.Statistics(lambda ind: ind.fitness.values)\n",
    "\n",
    "    # Run the Genetic Algorithm\n",
    "    population, logbook = algorithms.eaMuPlusLambda(population=population,\n",
    "                                                    toolbox=toolbox,\n",
    "                                                    mu = round(pop_size * 0.7)\n",
    "                                                    lambda_= round(pop_size * 0.5),\n",
    "                                                    cxpb=cx_prob,\n",
    "                                                    mutpb=mut_prob,\n",
    "                                                    ngen=generations,\n",
    "                                                    stats=stats,\n",
    "                                                    halloffame=hof,\n",
    "                                                    verbose=True,\n",
    "                                                    )\n",
    "    \n",
    "    best_inds = hof\n",
    "    print(\"Best Individual : \", best_inds)\n",
    "    print(\"Fitness : \", best_inds.fitness.values)\n",
    "\n",
    "    return best_inds, logbook, population, hof\n",
    "\n",
    "best_sols, logbook, population, hof = run_ga()"
   ]
  },
  {
   "cell_type": "markdown",
   "id": "dca6bec3-7d27-4311-954e-bbfb33fc755a",
   "metadata": {},
   "source": [
    "# Network Simulation testing"
   ]
  }
 ],
 "metadata": {
  "kernelspec": {
   "display_name": ".venv",
   "language": "python",
   "name": "python3"
  },
  "language_info": {
   "codemirror_mode": {
    "name": "ipython",
    "version": 3
   },
   "file_extension": ".py",
   "mimetype": "text/x-python",
   "name": "python",
   "nbconvert_exporter": "python",
   "pygments_lexer": "ipython3",
   "version": "3.9.6"
  }
 },
 "nbformat": 4,
 "nbformat_minor": 2
}
